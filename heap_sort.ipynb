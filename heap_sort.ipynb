{
 "cells": [
  {
   "cell_type": "code",
   "execution_count": 1,
   "metadata": {},
   "outputs": [],
   "source": [
    "import random"
   ]
  },
  {
   "cell_type": "code",
   "execution_count": 2,
   "metadata": {},
   "outputs": [],
   "source": [
    "def heapify(alist):\n",
    "    start = (len(alist) - 2) // 2\n",
    "    while start >= 0:\n",
    "        siftDown(alist, start, len(alist) - 1)\n",
    "        start -= 1\n",
    "\n",
    "def siftDown(alist, start, end):\n",
    "    root = start\n",
    "    while root * 2 + 1 <= end:\n",
    "        child = root * 2 + 1\n",
    "        if child + 1 <= end and alist[child] < alist[child + 1]:\n",
    "            child += 1\n",
    "        if child <= end and alist[root] < alist[child]:\n",
    "            alist[root], alist[child] = alist[child], alist[root]\n",
    "            root = child\n",
    "        else:\n",
    "            return\n",
    "\n",
    "def heap_sort(alist):\n",
    "\n",
    "\n",
    "    heapify(alist)\n",
    "    end = len(alist) - 1\n",
    "    while end > 0:\n",
    "        alist[end], alist[0] = alist[0], alist[end]\n",
    "        siftDown(alist, 0, end - 1)\n",
    "        end -= 1\n",
    "    \n",
    "    return alist"
   ]
  },
  {
   "cell_type": "code",
   "execution_count": 3,
   "metadata": {},
   "outputs": [],
   "source": [
    "test_data1 = []\n",
    "for i in range(20):\n",
    "    test_data1.append(random.randint(1, 100))"
   ]
  },
  {
   "cell_type": "code",
   "execution_count": 4,
   "metadata": {},
   "outputs": [],
   "source": [
    "test_data2 = []\n",
    "for i in range(20):\n",
    "    test_data2.append(random.randint(1, 100))"
   ]
  },
  {
   "cell_type": "code",
   "execution_count": 5,
   "metadata": {},
   "outputs": [],
   "source": [
    "test_data3 = []\n",
    "for i in range(20):\n",
    "    test_data3.append(random.randint(1, 100))"
   ]
  },
  {
   "cell_type": "markdown",
   "metadata": {},
   "source": [
    "test data 1"
   ]
  },
  {
   "cell_type": "code",
   "execution_count": 6,
   "metadata": {},
   "outputs": [
    {
     "data": {
      "text/plain": [
       "[59,\n",
       " 52,\n",
       " 55,\n",
       " 48,\n",
       " 66,\n",
       " 10,\n",
       " 96,\n",
       " 100,\n",
       " 45,\n",
       " 63,\n",
       " 66,\n",
       " 52,\n",
       " 88,\n",
       " 26,\n",
       " 45,\n",
       " 38,\n",
       " 45,\n",
       " 7,\n",
       " 55,\n",
       " 88]"
      ]
     },
     "execution_count": 6,
     "metadata": {},
     "output_type": "execute_result"
    }
   ],
   "source": [
    "test_data1"
   ]
  },
  {
   "cell_type": "code",
   "execution_count": 7,
   "metadata": {},
   "outputs": [
    {
     "name": "stdout",
     "output_type": "stream",
     "text": [
      "CPU times: user 63 µs, sys: 1 µs, total: 64 µs\n",
      "Wall time: 68.9 µs\n"
     ]
    },
    {
     "data": {
      "text/plain": [
       "[7,\n",
       " 10,\n",
       " 26,\n",
       " 38,\n",
       " 45,\n",
       " 45,\n",
       " 45,\n",
       " 48,\n",
       " 52,\n",
       " 52,\n",
       " 55,\n",
       " 55,\n",
       " 59,\n",
       " 63,\n",
       " 66,\n",
       " 66,\n",
       " 88,\n",
       " 88,\n",
       " 96,\n",
       " 100]"
      ]
     },
     "execution_count": 7,
     "metadata": {},
     "output_type": "execute_result"
    }
   ],
   "source": [
    "%%time\n",
    "heap_sort(test_data1)"
   ]
  },
  {
   "cell_type": "markdown",
   "metadata": {},
   "source": [
    "test data 2"
   ]
  },
  {
   "cell_type": "code",
   "execution_count": 8,
   "metadata": {},
   "outputs": [
    {
     "data": {
      "text/plain": [
       "[62, 99, 37, 37, 66, 45, 18, 87, 14, 46, 7, 8, 88, 56, 11, 7, 59, 59, 49, 56]"
      ]
     },
     "execution_count": 8,
     "metadata": {},
     "output_type": "execute_result"
    }
   ],
   "source": [
    "test_data2"
   ]
  },
  {
   "cell_type": "code",
   "execution_count": 9,
   "metadata": {},
   "outputs": [
    {
     "name": "stdout",
     "output_type": "stream",
     "text": [
      "CPU times: user 58 µs, sys: 0 ns, total: 58 µs\n",
      "Wall time: 62 µs\n"
     ]
    },
    {
     "data": {
      "text/plain": [
       "[7, 7, 8, 11, 14, 18, 37, 37, 45, 46, 49, 56, 56, 59, 59, 62, 66, 87, 88, 99]"
      ]
     },
     "execution_count": 9,
     "metadata": {},
     "output_type": "execute_result"
    }
   ],
   "source": [
    "%%time\n",
    "heap_sort(test_data2)"
   ]
  },
  {
   "cell_type": "markdown",
   "metadata": {},
   "source": [
    "test data 3"
   ]
  },
  {
   "cell_type": "code",
   "execution_count": 10,
   "metadata": {},
   "outputs": [
    {
     "data": {
      "text/plain": [
       "[76, 98, 54, 36, 38, 9, 13, 15, 26, 80, 82, 20, 42, 86, 1, 8, 88, 43, 79, 2]"
      ]
     },
     "execution_count": 10,
     "metadata": {},
     "output_type": "execute_result"
    }
   ],
   "source": [
    "test_data3"
   ]
  },
  {
   "cell_type": "code",
   "execution_count": 11,
   "metadata": {},
   "outputs": [
    {
     "name": "stdout",
     "output_type": "stream",
     "text": [
      "CPU times: user 60 µs, sys: 1 µs, total: 61 µs\n",
      "Wall time: 64.1 µs\n"
     ]
    },
    {
     "data": {
      "text/plain": [
       "[1, 2, 8, 9, 13, 15, 20, 26, 36, 38, 42, 43, 54, 76, 79, 80, 82, 86, 88, 98]"
      ]
     },
     "execution_count": 11,
     "metadata": {},
     "output_type": "execute_result"
    }
   ],
   "source": [
    "%%time\n",
    "heap_sort(test_data3)"
   ]
  },
  {
   "cell_type": "code",
   "execution_count": null,
   "metadata": {},
   "outputs": [],
   "source": []
  },
  {
   "cell_type": "code",
   "execution_count": null,
   "metadata": {},
   "outputs": [],
   "source": []
  }
 ],
 "metadata": {
  "kernelspec": {
   "display_name": "Python 3",
   "language": "python",
   "name": "python3"
  },
  "language_info": {
   "codemirror_mode": {
    "name": "ipython",
    "version": 3
   },
   "file_extension": ".py",
   "mimetype": "text/x-python",
   "name": "python",
   "nbconvert_exporter": "python",
   "pygments_lexer": "ipython3",
   "version": "3.6.0"
  }
 },
 "nbformat": 4,
 "nbformat_minor": 2
}
