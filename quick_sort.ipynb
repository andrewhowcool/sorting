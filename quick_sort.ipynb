{
 "cells": [
  {
   "cell_type": "code",
   "execution_count": 1,
   "metadata": {},
   "outputs": [],
   "source": [
    "import random"
   ]
  },
  {
   "cell_type": "code",
   "execution_count": 2,
   "metadata": {},
   "outputs": [],
   "source": [
    "def quick_sort(alist):\n",
    "    if len(alist) == 1 or len(alist) == 0:\n",
    "        return alist\n",
    "    else:\n",
    "        pivot = alist[0]\n",
    "        i = 0\n",
    "        for j in range(len(alist)-1):\n",
    "            if alist[j+1] < pivot:\n",
    "                alist[j+1],alist[i+1] = alist[i+1], alist[j+1]\n",
    "                i += 1\n",
    "        alist[0],alist[i] = alist[i],alist[0]\n",
    "        first_part = quick_sort(alist[:i])\n",
    "        second_part = quick_sort(alist[i+1:])\n",
    "        first_part.append(alist[i])\n",
    "        return first_part + second_part\n",
    "        \n",
    "        "
   ]
  },
  {
   "cell_type": "code",
   "execution_count": 3,
   "metadata": {},
   "outputs": [],
   "source": [
    "test_data1 = []\n",
    "for i in range(20):\n",
    "    test_data1.append(random.randint(1, 100))"
   ]
  },
  {
   "cell_type": "code",
   "execution_count": 4,
   "metadata": {},
   "outputs": [],
   "source": [
    "test_data2 = []\n",
    "for i in range(20):\n",
    "    test_data2.append(random.randint(1, 100))"
   ]
  },
  {
   "cell_type": "code",
   "execution_count": 5,
   "metadata": {},
   "outputs": [],
   "source": [
    "test_data3 = []\n",
    "for i in range(20):\n",
    "    test_data3.append(random.randint(1, 100))"
   ]
  },
  {
   "cell_type": "markdown",
   "metadata": {},
   "source": [
    "test data 1"
   ]
  },
  {
   "cell_type": "code",
   "execution_count": 6,
   "metadata": {},
   "outputs": [
    {
     "data": {
      "text/plain": [
       "[32, 4, 35, 66, 56, 12, 35, 94, 83, 72, 22, 6, 80, 15, 4, 95, 82, 92, 67, 85]"
      ]
     },
     "execution_count": 6,
     "metadata": {},
     "output_type": "execute_result"
    }
   ],
   "source": [
    "test_data1"
   ]
  },
  {
   "cell_type": "code",
   "execution_count": 7,
   "metadata": {},
   "outputs": [
    {
     "name": "stdout",
     "output_type": "stream",
     "text": [
      "CPU times: user 145 µs, sys: 24 µs, total: 169 µs\n",
      "Wall time: 241 µs\n"
     ]
    },
    {
     "data": {
      "text/plain": [
       "[4, 4, 6, 12, 15, 22, 32, 35, 35, 56, 66, 67, 72, 80, 82, 83, 85, 92, 94, 95]"
      ]
     },
     "execution_count": 7,
     "metadata": {},
     "output_type": "execute_result"
    }
   ],
   "source": [
    "%%time\n",
    "quick_sort(test_data1)"
   ]
  },
  {
   "cell_type": "markdown",
   "metadata": {},
   "source": [
    "test data 2"
   ]
  },
  {
   "cell_type": "code",
   "execution_count": 8,
   "metadata": {},
   "outputs": [
    {
     "data": {
      "text/plain": [
       "[100, 70, 28, 77, 44, 6, 40, 18, 46, 94, 4, 29, 53, 59, 78, 66, 63, 4, 54, 76]"
      ]
     },
     "execution_count": 8,
     "metadata": {},
     "output_type": "execute_result"
    }
   ],
   "source": [
    "test_data2"
   ]
  },
  {
   "cell_type": "code",
   "execution_count": 9,
   "metadata": {},
   "outputs": [
    {
     "name": "stdout",
     "output_type": "stream",
     "text": [
      "CPU times: user 126 µs, sys: 7 µs, total: 133 µs\n",
      "Wall time: 157 µs\n"
     ]
    },
    {
     "data": {
      "text/plain": [
       "[4, 4, 6, 18, 28, 29, 40, 44, 46, 53, 54, 59, 63, 66, 70, 76, 77, 78, 94, 100]"
      ]
     },
     "execution_count": 9,
     "metadata": {},
     "output_type": "execute_result"
    }
   ],
   "source": [
    "%%time\n",
    "quick_sort(test_data2)"
   ]
  },
  {
   "cell_type": "markdown",
   "metadata": {},
   "source": [
    "test data 3"
   ]
  },
  {
   "cell_type": "code",
   "execution_count": 10,
   "metadata": {},
   "outputs": [
    {
     "data": {
      "text/plain": [
       "[95, 30, 3, 52, 67, 16, 78, 60, 96, 52, 19, 92, 24, 31, 92, 59, 46, 69, 50, 44]"
      ]
     },
     "execution_count": 10,
     "metadata": {},
     "output_type": "execute_result"
    }
   ],
   "source": [
    "test_data3"
   ]
  },
  {
   "cell_type": "code",
   "execution_count": 11,
   "metadata": {},
   "outputs": [
    {
     "name": "stdout",
     "output_type": "stream",
     "text": [
      "CPU times: user 109 µs, sys: 6 µs, total: 115 µs\n",
      "Wall time: 117 µs\n"
     ]
    },
    {
     "data": {
      "text/plain": [
       "[3, 16, 19, 24, 30, 31, 44, 46, 50, 52, 52, 59, 60, 67, 69, 78, 92, 92, 95, 96]"
      ]
     },
     "execution_count": 11,
     "metadata": {},
     "output_type": "execute_result"
    }
   ],
   "source": [
    "%%time\n",
    "quick_sort(test_data3)"
   ]
  },
  {
   "cell_type": "code",
   "execution_count": null,
   "metadata": {},
   "outputs": [],
   "source": []
  },
  {
   "cell_type": "code",
   "execution_count": null,
   "metadata": {},
   "outputs": [],
   "source": []
  }
 ],
 "metadata": {
  "kernelspec": {
   "display_name": "Python 3",
   "language": "python",
   "name": "python3"
  },
  "language_info": {
   "codemirror_mode": {
    "name": "ipython",
    "version": 3
   },
   "file_extension": ".py",
   "mimetype": "text/x-python",
   "name": "python",
   "nbconvert_exporter": "python",
   "pygments_lexer": "ipython3",
   "version": "3.6.0"
  }
 },
 "nbformat": 4,
 "nbformat_minor": 2
}
