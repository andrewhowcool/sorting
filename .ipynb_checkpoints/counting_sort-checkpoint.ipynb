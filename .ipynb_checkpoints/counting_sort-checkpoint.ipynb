{
 "cells": [
  {
   "cell_type": "code",
   "execution_count": 1,
   "metadata": {},
   "outputs": [],
   "source": [
    "import random"
   ]
  },
  {
   "cell_type": "code",
   "execution_count": 2,
   "metadata": {},
   "outputs": [],
   "source": [
    "def heapify(alist):\n",
    "    start = (len(alist) - 2) // 2\n",
    "    while start >= 0:\n",
    "        siftDown(alist, start, len(alist) - 1)\n",
    "        start -= 1\n",
    "\n",
    "def siftDown(alist, start, end):\n",
    "    root = start\n",
    "    while root * 2 + 1 <= end:\n",
    "        child = root * 2 + 1\n",
    "        if child + 1 <= end and alist[child] < alist[child + 1]:\n",
    "            child += 1\n",
    "        if child <= end and alist[root] < alist[child]:\n",
    "            alist[root], alist[child] = alist[child], alist[root]\n",
    "            root = child\n",
    "        else:\n",
    "            return\n",
    "\n",
    "def heap_sort(alist):\n",
    "\n",
    "\n",
    "    heapify(alist)\n",
    "    end = len(alist) - 1\n",
    "    while end > 0:\n",
    "        alist[end], alist[0] = alist[0], alist[end]\n",
    "        siftDown(alist, 0, end - 1)\n",
    "        end -= 1\n",
    "    \n",
    "    return alist"
   ]
  },
  {
   "cell_type": "code",
   "execution_count": 3,
   "metadata": {},
   "outputs": [],
   "source": [
    "test_data1 = []\n",
    "for i in range(20):\n",
    "    test_data1.append(random.randint(1, 100))"
   ]
  },
  {
   "cell_type": "code",
   "execution_count": 4,
   "metadata": {},
   "outputs": [],
   "source": [
    "test_data2 = []\n",
    "for i in range(20):\n",
    "    test_data2.append(random.randint(1, 100))"
   ]
  },
  {
   "cell_type": "code",
   "execution_count": 5,
   "metadata": {},
   "outputs": [],
   "source": [
    "test_data3 = []\n",
    "for i in range(20):\n",
    "    test_data3.append(random.randint(1, 100))"
   ]
  },
  {
   "cell_type": "markdown",
   "metadata": {},
   "source": [
    "test data 1"
   ]
  },
  {
   "cell_type": "code",
   "execution_count": 6,
   "metadata": {},
   "outputs": [
    {
     "data": {
      "text/plain": [
       "[2, 6, 58, 68, 89, 91, 52, 24, 21, 68, 77, 8, 10, 4, 15, 51, 92, 98, 17, 73]"
      ]
     },
     "execution_count": 6,
     "metadata": {},
     "output_type": "execute_result"
    }
   ],
   "source": [
    "test_data1"
   ]
  },
  {
   "cell_type": "code",
   "execution_count": 7,
   "metadata": {},
   "outputs": [
    {
     "name": "stdout",
     "output_type": "stream",
     "text": [
      "CPU times: user 60 µs, sys: 1 µs, total: 61 µs\n",
      "Wall time: 64.1 µs\n"
     ]
    },
    {
     "data": {
      "text/plain": [
       "[2, 4, 6, 8, 10, 15, 17, 21, 24, 51, 52, 58, 68, 68, 73, 77, 89, 91, 92, 98]"
      ]
     },
     "execution_count": 7,
     "metadata": {},
     "output_type": "execute_result"
    }
   ],
   "source": [
    "%%time\n",
    "heap_sort(test_data1)"
   ]
  },
  {
   "cell_type": "markdown",
   "metadata": {},
   "source": [
    "test data 2"
   ]
  },
  {
   "cell_type": "code",
   "execution_count": 8,
   "metadata": {},
   "outputs": [
    {
     "data": {
      "text/plain": [
       "[90, 63, 81, 36, 42, 51, 33, 8, 81, 67, 13, 13, 30, 62, 35, 10, 68, 96, 2, 70]"
      ]
     },
     "execution_count": 8,
     "metadata": {},
     "output_type": "execute_result"
    }
   ],
   "source": [
    "test_data2"
   ]
  },
  {
   "cell_type": "code",
   "execution_count": 9,
   "metadata": {},
   "outputs": [
    {
     "name": "stdout",
     "output_type": "stream",
     "text": [
      "CPU times: user 118 µs, sys: 1e+03 ns, total: 119 µs\n",
      "Wall time: 126 µs\n"
     ]
    },
    {
     "data": {
      "text/plain": [
       "[2, 8, 10, 13, 13, 30, 33, 35, 36, 42, 51, 62, 63, 67, 68, 70, 81, 81, 90, 96]"
      ]
     },
     "execution_count": 9,
     "metadata": {},
     "output_type": "execute_result"
    }
   ],
   "source": [
    "%%time\n",
    "heap_sort(test_data2)"
   ]
  },
  {
   "cell_type": "markdown",
   "metadata": {},
   "source": [
    "test data 3"
   ]
  },
  {
   "cell_type": "code",
   "execution_count": 10,
   "metadata": {},
   "outputs": [
    {
     "data": {
      "text/plain": [
       "[76, 98, 54, 36, 38, 9, 13, 15, 26, 80, 82, 20, 42, 86, 1, 8, 88, 43, 79, 2]"
      ]
     },
     "execution_count": 10,
     "metadata": {},
     "output_type": "execute_result"
    }
   ],
   "source": [
    "test_data3"
   ]
  },
  {
   "cell_type": "code",
   "execution_count": 11,
   "metadata": {},
   "outputs": [
    {
     "name": "stdout",
     "output_type": "stream",
     "text": [
      "CPU times: user 60 µs, sys: 1 µs, total: 61 µs\n",
      "Wall time: 64.1 µs\n"
     ]
    },
    {
     "data": {
      "text/plain": [
       "[1, 2, 8, 9, 13, 15, 20, 26, 36, 38, 42, 43, 54, 76, 79, 80, 82, 86, 88, 98]"
      ]
     },
     "execution_count": 11,
     "metadata": {},
     "output_type": "execute_result"
    }
   ],
   "source": [
    "%%time\n",
    "heap_sort(test_data3)"
   ]
  },
  {
   "cell_type": "code",
   "execution_count": null,
   "metadata": {},
   "outputs": [],
   "source": []
  },
  {
   "cell_type": "code",
   "execution_count": null,
   "metadata": {},
   "outputs": [],
   "source": []
  }
 ],
 "metadata": {
  "kernelspec": {
   "display_name": "Python 3",
   "language": "python",
   "name": "python3"
  },
  "language_info": {
   "codemirror_mode": {
    "name": "ipython",
    "version": 3
   },
   "file_extension": ".py",
   "mimetype": "text/x-python",
   "name": "python",
   "nbconvert_exporter": "python",
   "pygments_lexer": "ipython3",
   "version": "3.6.0"
  }
 },
 "nbformat": 4,
 "nbformat_minor": 2
}
